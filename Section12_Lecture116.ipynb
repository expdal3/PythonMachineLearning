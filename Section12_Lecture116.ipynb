{
 "nbformat": 4,
 "nbformat_minor": 2,
 "metadata": {
  "language_info": {
   "name": "python",
   "codemirror_mode": {
    "name": "ipython",
    "version": 3
   },
   "version": "3.6.1-final"
  },
  "orig_nbformat": 2,
  "file_extension": ".py",
  "mimetype": "text/x-python",
  "name": "python",
  "npconvert_exporter": "python",
  "pygments_lexer": "ipython3",
  "version": 3,
  "kernelspec": {
   "name": "python36164bit64b839f6098c454d81ef4604b180a554",
   "display_name": "Python 3.6.1 64-bit"
  }
 },
 "cells": [
  {
   "cell_type": "markdown",
   "metadata": {},
   "source": [
    "#   Deep Learning with H2O\n",
    "### By default we get 2 hidden layers, each with 200 neurons and 10 epochs"
   ]
  },
  {
   "cell_type": "code",
   "execution_count": 4,
   "metadata": {},
   "outputs": [
    {
     "name": "stdout",
     "output_type": "stream",
     "text": "Checking whether there is an H2O instance running at http://localhost:54321. connected.\n"
    },
    {
     "data": {
      "text/html": "<div style=\"overflow:auto\"><table style=\"width:50%\"><tr><td>H2O cluster uptime:</td>\n<td>11 mins 50 secs</td></tr>\n<tr><td>H2O cluster timezone:</td>\n<td>Australia/Sydney</td></tr>\n<tr><td>H2O data parsing timezone:</td>\n<td>UTC</td></tr>\n<tr><td>H2O cluster version:</td>\n<td>3.28.0.3</td></tr>\n<tr><td>H2O cluster version age:</td>\n<td>10 days </td></tr>\n<tr><td>H2O cluster name:</td>\n<td>H2O_from_python_ducan_gbm6ux</td></tr>\n<tr><td>H2O cluster total nodes:</td>\n<td>1</td></tr>\n<tr><td>H2O cluster free memory:</td>\n<td>3.345 Gb</td></tr>\n<tr><td>H2O cluster total cores:</td>\n<td>4</td></tr>\n<tr><td>H2O cluster allowed cores:</td>\n<td>4</td></tr>\n<tr><td>H2O cluster status:</td>\n<td>locked, healthy</td></tr>\n<tr><td>H2O connection url:</td>\n<td>http://localhost:54321</td></tr>\n<tr><td>H2O connection proxy:</td>\n<td>{'http': None, 'https': None}</td></tr>\n<tr><td>H2O internal security:</td>\n<td>False</td></tr>\n<tr><td>H2O API Extensions:</td>\n<td>Amazon S3, Algos, AutoML, Core V3, TargetEncoder, Core V4</td></tr>\n<tr><td>Python version:</td>\n<td>3.6.1 final</td></tr></table></div>",
      "text/plain": "--------------------------  ---------------------------------------------------------\nH2O cluster uptime:         11 mins 50 secs\nH2O cluster timezone:       Australia/Sydney\nH2O data parsing timezone:  UTC\nH2O cluster version:        3.28.0.3\nH2O cluster version age:    10 days\nH2O cluster name:           H2O_from_python_ducan_gbm6ux\nH2O cluster total nodes:    1\nH2O cluster free memory:    3.345 Gb\nH2O cluster total cores:    4\nH2O cluster allowed cores:  4\nH2O cluster status:         locked, healthy\nH2O connection url:         http://localhost:54321\nH2O connection proxy:       {'http': None, 'https': None}\nH2O internal security:      False\nH2O API Extensions:         Amazon S3, Algos, AutoML, Core V3, TargetEncoder, Core V4\nPython version:             3.6.1 final\n--------------------------  ---------------------------------------------------------"
     },
     "metadata": {},
     "output_type": "display_data"
    }
   ],
   "source": [
    "import h2o\n",
    "h2o.init()"
   ]
  },
  {
   "cell_type": "code",
   "execution_count": 6,
   "metadata": {},
   "outputs": [
    {
     "name": "stdout",
     "output_type": "stream",
     "text": "Parse progress: |█████████████████████████████████████████████████████████| 100%\n"
    },
    {
     "data": {
      "text/html": "<table>\n<thead>\n<tr><th style=\"text-align: right;\">     RI</th><th style=\"text-align: right;\">   Na</th><th style=\"text-align: right;\">  Mg</th><th style=\"text-align: right;\">  Al</th><th style=\"text-align: right;\">   Si</th><th style=\"text-align: right;\">   K</th><th style=\"text-align: right;\">  Ca</th><th style=\"text-align: right;\">  Ba</th><th style=\"text-align: right;\">  Fe</th><th style=\"text-align: right;\">  Type</th></tr>\n</thead>\n<tbody>\n<tr><td style=\"text-align: right;\">1.52101</td><td style=\"text-align: right;\">13.64</td><td style=\"text-align: right;\">4.49</td><td style=\"text-align: right;\">1.1 </td><td style=\"text-align: right;\">71.78</td><td style=\"text-align: right;\">0.06</td><td style=\"text-align: right;\">8.75</td><td style=\"text-align: right;\">   0</td><td style=\"text-align: right;\">   0</td><td style=\"text-align: right;\">     1</td></tr>\n<tr><td style=\"text-align: right;\">1.51761</td><td style=\"text-align: right;\">13.89</td><td style=\"text-align: right;\">3.6 </td><td style=\"text-align: right;\">1.36</td><td style=\"text-align: right;\">72.73</td><td style=\"text-align: right;\">0.48</td><td style=\"text-align: right;\">7.83</td><td style=\"text-align: right;\">   0</td><td style=\"text-align: right;\">   0</td><td style=\"text-align: right;\">     1</td></tr>\n<tr><td style=\"text-align: right;\">1.51618</td><td style=\"text-align: right;\">13.53</td><td style=\"text-align: right;\">3.55</td><td style=\"text-align: right;\">1.54</td><td style=\"text-align: right;\">72.99</td><td style=\"text-align: right;\">0.39</td><td style=\"text-align: right;\">7.78</td><td style=\"text-align: right;\">   0</td><td style=\"text-align: right;\">   0</td><td style=\"text-align: right;\">     1</td></tr>\n<tr><td style=\"text-align: right;\">1.51766</td><td style=\"text-align: right;\">13.21</td><td style=\"text-align: right;\">3.69</td><td style=\"text-align: right;\">1.29</td><td style=\"text-align: right;\">72.61</td><td style=\"text-align: right;\">0.57</td><td style=\"text-align: right;\">8.22</td><td style=\"text-align: right;\">   0</td><td style=\"text-align: right;\">   0</td><td style=\"text-align: right;\">     1</td></tr>\n<tr><td style=\"text-align: right;\">1.51742</td><td style=\"text-align: right;\">13.27</td><td style=\"text-align: right;\">3.62</td><td style=\"text-align: right;\">1.24</td><td style=\"text-align: right;\">73.08</td><td style=\"text-align: right;\">0.55</td><td style=\"text-align: right;\">8.07</td><td style=\"text-align: right;\">   0</td><td style=\"text-align: right;\">   0</td><td style=\"text-align: right;\">     1</td></tr>\n</tbody>\n</table>"
     },
     "metadata": {},
     "output_type": "display_data"
    },
    {
     "data": {
      "text/plain": ""
     },
     "execution_count": 6,
     "metadata": {},
     "output_type": "execute_result"
    }
   ],
   "source": [
    "from h2o.estimators.deeplearning import H2ODeepLearningEstimator\n",
    "model1 = H2ODeepLearningEstimator()\n",
    "\n",
    "g=h2o.import_file(path=\"E:\\\\Study\\\\Stackskill\\\\Python\\\\scriptsLecture\\\\scriptsLecture\\\\section11\\glassClass.csv\")\n",
    "g.head(5)"
   ]
  },
  {
   "cell_type": "code",
   "execution_count": 7,
   "metadata": {},
   "outputs": [
    {
     "name": "stdout",
     "output_type": "stream",
     "text": "deeplearning Model Build progress: |██████████████████████████████████████| 100%\n"
    }
   ],
   "source": [
    "model1.train(x = list(set(g.columns) - set(['Type'])), y = 'Type', training_frame=g)"
   ]
  },
  {
   "cell_type": "code",
   "execution_count": 8,
   "metadata": {},
   "outputs": [
    {
     "name": "stdout",
     "output_type": "stream",
     "text": "Model Details\n=============\nH2ODeepLearningEstimator:Deep Learning\nModel Key:DeepLearning_model_python_1581764049511_1\n\n\nStatus of Neuron Layers: predicting Type, regression, gaussian distribution, Quadratic loss, 42,401 weights/biases, 505.6 KB, 2,140 training samples, mini-batch size 1\n"
    },
    {
     "data": {
      "text/html": "<div>\n<style scoped>\n    .dataframe tbody tr th:only-of-type {\n        vertical-align: middle;\n    }\n\n    .dataframe tbody tr th {\n        vertical-align: top;\n    }\n\n    .dataframe thead th {\n        text-align: right;\n    }\n</style>\n<table border=\"1\" class=\"dataframe\">\n  <thead>\n    <tr style=\"text-align: right;\">\n      <th></th>\n      <th></th>\n      <th>layer</th>\n      <th>units</th>\n      <th>type</th>\n      <th>dropout</th>\n      <th>l1</th>\n      <th>l2</th>\n      <th>mean_rate</th>\n      <th>rate_rms</th>\n      <th>momentum</th>\n      <th>mean_weight</th>\n      <th>weight_rms</th>\n      <th>mean_bias</th>\n      <th>bias_rms</th>\n    </tr>\n  </thead>\n  <tbody>\n    <tr>\n      <th>0</th>\n      <td></td>\n      <td>1</td>\n      <td>9</td>\n      <td>Input</td>\n      <td>0</td>\n      <td></td>\n      <td></td>\n      <td></td>\n      <td></td>\n      <td></td>\n      <td></td>\n      <td></td>\n      <td></td>\n      <td></td>\n    </tr>\n    <tr>\n      <th>1</th>\n      <td></td>\n      <td>2</td>\n      <td>200</td>\n      <td>Rectifier</td>\n      <td>0</td>\n      <td>0</td>\n      <td>0</td>\n      <td>0.00507059</td>\n      <td>0.00321406</td>\n      <td>0</td>\n      <td>0.00188038</td>\n      <td>0.0992834</td>\n      <td>0.47974</td>\n      <td>0.0158079</td>\n    </tr>\n    <tr>\n      <th>2</th>\n      <td></td>\n      <td>3</td>\n      <td>200</td>\n      <td>Rectifier</td>\n      <td>0</td>\n      <td>0</td>\n      <td>0</td>\n      <td>0.0315619</td>\n      <td>0.107571</td>\n      <td>0</td>\n      <td>-0.00259978</td>\n      <td>0.0695694</td>\n      <td>0.995111</td>\n      <td>0.00610581</td>\n    </tr>\n    <tr>\n      <th>3</th>\n      <td></td>\n      <td>4</td>\n      <td>1</td>\n      <td>Linear</td>\n      <td></td>\n      <td>0</td>\n      <td>0</td>\n      <td>0.000462125</td>\n      <td>0.00076675</td>\n      <td>0</td>\n      <td>-0.00566631</td>\n      <td>0.0936415</td>\n      <td>0.00151893</td>\n      <td>1.09713e-154</td>\n    </tr>\n  </tbody>\n</table>\n</div>",
      "text/plain": "     layer  units       type  ... mean_weight weight_rms   mean_bias      bias_rms\n0        1      9      Input  ...                                                 \n1        2    200  Rectifier  ...  0.00188038  0.0992834     0.47974     0.0158079\n2        3    200  Rectifier  ... -0.00259978  0.0695694    0.995111    0.00610581\n3        4      1     Linear  ... -0.00566631  0.0936415  0.00151893  1.09713e-154\n\n[4 rows x 14 columns]"
     },
     "metadata": {},
     "output_type": "display_data"
    },
    {
     "name": "stdout",
     "output_type": "stream",
     "text": "\n\nModelMetricsRegression: deeplearning\n** Reported on train data. **\n\nMSE: 1.0930350439180372\nRMSE: 1.045483162905093\nMAE: 0.8186764044562254\nRMSLE: 0.30024756839246425\nMean Residual Deviance: 1.0930350439180372\n\nScoring History:\n"
    },
    {
     "data": {
      "text/html": "<div>\n<style scoped>\n    .dataframe tbody tr th:only-of-type {\n        vertical-align: middle;\n    }\n\n    .dataframe tbody tr th {\n        vertical-align: top;\n    }\n\n    .dataframe thead th {\n        text-align: right;\n    }\n</style>\n<table border=\"1\" class=\"dataframe\">\n  <thead>\n    <tr style=\"text-align: right;\">\n      <th></th>\n      <th></th>\n      <th>timestamp</th>\n      <th>duration</th>\n      <th>training_speed</th>\n      <th>epochs</th>\n      <th>iterations</th>\n      <th>samples</th>\n      <th>training_rmse</th>\n      <th>training_deviance</th>\n      <th>training_mae</th>\n      <th>training_r2</th>\n    </tr>\n  </thead>\n  <tbody>\n    <tr>\n      <th>0</th>\n      <td></td>\n      <td>2020-02-15 22:28:37</td>\n      <td>0.000 sec</td>\n      <td>None</td>\n      <td>0.0</td>\n      <td>0</td>\n      <td>0.0</td>\n      <td>NaN</td>\n      <td>NaN</td>\n      <td>NaN</td>\n      <td>NaN</td>\n    </tr>\n    <tr>\n      <th>1</th>\n      <td></td>\n      <td>2020-02-15 22:28:37</td>\n      <td>1.652 sec</td>\n      <td>743 obs/sec</td>\n      <td>1.0</td>\n      <td>1</td>\n      <td>214.0</td>\n      <td>1.596375</td>\n      <td>2.548412</td>\n      <td>1.112771</td>\n      <td>0.421477</td>\n    </tr>\n    <tr>\n      <th>2</th>\n      <td></td>\n      <td>2020-02-15 22:28:39</td>\n      <td>2.569 sec</td>\n      <td>1822 obs/sec</td>\n      <td>10.0</td>\n      <td>10</td>\n      <td>2140.0</td>\n      <td>1.045483</td>\n      <td>1.093035</td>\n      <td>0.818676</td>\n      <td>0.751867</td>\n    </tr>\n  </tbody>\n</table>\n</div>",
      "text/plain": "               timestamp  ... training_mae training_r2\n0    2020-02-15 22:28:37  ...          NaN         NaN\n1    2020-02-15 22:28:37  ...     1.112771    0.421477\n2    2020-02-15 22:28:39  ...     0.818676    0.751867\n\n[3 rows x 11 columns]"
     },
     "metadata": {},
     "output_type": "display_data"
    },
    {
     "name": "stdout",
     "output_type": "stream",
     "text": "\nVariable Importances:\n"
    },
    {
     "data": {
      "text/html": "<div>\n<style scoped>\n    .dataframe tbody tr th:only-of-type {\n        vertical-align: middle;\n    }\n\n    .dataframe tbody tr th {\n        vertical-align: top;\n    }\n\n    .dataframe thead th {\n        text-align: right;\n    }\n</style>\n<table border=\"1\" class=\"dataframe\">\n  <thead>\n    <tr style=\"text-align: right;\">\n      <th></th>\n      <th>variable</th>\n      <th>relative_importance</th>\n      <th>scaled_importance</th>\n      <th>percentage</th>\n    </tr>\n  </thead>\n  <tbody>\n    <tr>\n      <th>0</th>\n      <td>Ca</td>\n      <td>1.000000</td>\n      <td>1.000000</td>\n      <td>0.116714</td>\n    </tr>\n    <tr>\n      <th>1</th>\n      <td>Mg</td>\n      <td>0.989205</td>\n      <td>0.989205</td>\n      <td>0.115454</td>\n    </tr>\n    <tr>\n      <th>2</th>\n      <td>Al</td>\n      <td>0.988554</td>\n      <td>0.988554</td>\n      <td>0.115378</td>\n    </tr>\n    <tr>\n      <th>3</th>\n      <td>RI</td>\n      <td>0.961999</td>\n      <td>0.961999</td>\n      <td>0.112279</td>\n    </tr>\n    <tr>\n      <th>4</th>\n      <td>Fe</td>\n      <td>0.961777</td>\n      <td>0.961777</td>\n      <td>0.112253</td>\n    </tr>\n    <tr>\n      <th>5</th>\n      <td>Ba</td>\n      <td>0.958154</td>\n      <td>0.958154</td>\n      <td>0.111830</td>\n    </tr>\n    <tr>\n      <th>6</th>\n      <td>Si</td>\n      <td>0.914419</td>\n      <td>0.914419</td>\n      <td>0.106725</td>\n    </tr>\n    <tr>\n      <th>7</th>\n      <td>Na</td>\n      <td>0.899977</td>\n      <td>0.899977</td>\n      <td>0.105040</td>\n    </tr>\n    <tr>\n      <th>8</th>\n      <td>K</td>\n      <td>0.893878</td>\n      <td>0.893878</td>\n      <td>0.104328</td>\n    </tr>\n  </tbody>\n</table>\n</div>",
      "text/plain": "  variable  relative_importance  scaled_importance  percentage\n0       Ca             1.000000           1.000000    0.116714\n1       Mg             0.989205           0.989205    0.115454\n2       Al             0.988554           0.988554    0.115378\n3       RI             0.961999           0.961999    0.112279\n4       Fe             0.961777           0.961777    0.112253\n5       Ba             0.958154           0.958154    0.111830\n6       Si             0.914419           0.914419    0.106725\n7       Na             0.899977           0.899977    0.105040\n8        K             0.893878           0.893878    0.104328"
     },
     "metadata": {},
     "output_type": "display_data"
    }
   ],
   "source": [
    "model1.show()"
   ]
  },
  {
   "cell_type": "code",
   "execution_count": null,
   "metadata": {},
   "outputs": [],
   "source": [
    "model1.mse"
   ]
  }
 ]
}